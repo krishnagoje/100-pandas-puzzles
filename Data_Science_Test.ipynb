{
  "nbformat": 4,
  "nbformat_minor": 0,
  "metadata": {
    "colab": {
      "name": "Data Science Test.ipynb",
      "provenance": [],
      "collapsed_sections": [],
      "authorship_tag": "ABX9TyPGxHvKmNBv4XGH+OXHSp2T",
      "include_colab_link": true
    },
    "kernelspec": {
      "name": "python3",
      "display_name": "Python 3"
    }
  },
  "cells": [
    {
      "cell_type": "markdown",
      "metadata": {
        "id": "view-in-github",
        "colab_type": "text"
      },
      "source": [
        "<a href=\"https://colab.research.google.com/github/krishnagoje/100-pandas-puzzles/blob/improvements/Data_Science_Test.ipynb\" target=\"_parent\"><img src=\"https://colab.research.google.com/assets/colab-badge.svg\" alt=\"Open In Colab\"/></a>"
      ]
    },
    {
      "cell_type": "code",
      "metadata": {
        "id": "RiWNULKG_NJ9",
        "colab_type": "code",
        "colab": {}
      },
      "source": [
        "import pandas as pd\n",
        "import numpy as np\n",
        "\n",
        "fruits = ['butter', 'almong', 'chicken']\n",
        "days = ['mon', 'tue', 'wed','thur','fri']\n",
        "\n",
        "v = 49\n",
        "\n",
        "values = np.random.randint(10,50,15).reshape(5,3)\n",
        "values2 = np.random.randint(1,5,3).reshape(3,1)\n",
        "\n",
        "df = pd.DataFrame(data = values, columns=fruits, index=days)\n",
        "\n",
        "df['total'] = df.dot(values2)\n",
        "# df, values2\n",
        "\n",
        "# print('the data is {}'.format(df[2,4]))\n",
        "df"
      ],
      "execution_count": 0,
      "outputs": []
    },
    {
      "cell_type": "code",
      "metadata": {
        "id": "OLZanUWsZvlX",
        "colab_type": "code",
        "colab": {}
      },
      "source": [
        "# Arrays's"
      ],
      "execution_count": 0,
      "outputs": []
    },
    {
      "cell_type": "code",
      "metadata": {
        "id": "WlRtYxhvaGT-",
        "colab_type": "code",
        "colab": {}
      },
      "source": [
        "from google.colab import drive\n",
        "drive.mount('/content/drive')"
      ],
      "execution_count": 0,
      "outputs": []
    },
    {
      "cell_type": "markdown",
      "metadata": {
        "id": "NCrFS42XaJEV",
        "colab_type": "text"
      },
      "source": [
        "# Arrays"
      ]
    },
    {
      "cell_type": "code",
      "metadata": {
        "id": "E52C6MjaaQrS",
        "colab_type": "code",
        "outputId": "cc028d4a-0fe2-4771-fe16-a5aa4a88a485",
        "colab": {
          "base_uri": "https://localhost:8080/",
          "height": 34
        }
      },
      "source": [
        "arr = np.array([2,3,4,5,6,7])\n",
        "arr*2\n",
        "arr[3]\n",
        "arr[3] = 33\n",
        "arr"
      ],
      "execution_count": 0,
      "outputs": [
        {
          "output_type": "execute_result",
          "data": {
            "text/plain": [
              "array([ 2,  3,  4, 33,  6,  7])"
            ]
          },
          "metadata": {
            "tags": []
          },
          "execution_count": 90
        }
      ]
    },
    {
      "cell_type": "code",
      "metadata": {
        "id": "1PdnzH07a_Ol",
        "colab_type": "code",
        "colab": {}
      },
      "source": [
        "arr[2:]\n",
        "arr.argmax()\n",
        "arr.argmin()\n",
        "arr[5] = 22\n",
        "arr"
      ],
      "execution_count": 0,
      "outputs": []
    },
    {
      "cell_type": "markdown",
      "metadata": {
        "id": "lD5ec-kneTsR",
        "colab_type": "text"
      },
      "source": [
        "# Tuples\n"
      ]
    },
    {
      "cell_type": "code",
      "metadata": {
        "id": "YKIo6a-NeZEO",
        "colab_type": "code",
        "colab": {}
      },
      "source": [
        "tup = (1, 2, 3, 4, 5, 6, 7)\n",
        "for i in tup:\n",
        "  print(i, i*2)\n",
        "\"The length of tuple is \" + str(len(tup))\n",
        "\n",
        "tup1 = (4, 5, 6, 7, 8, 9)\n",
        "\n",
        "t3 = tup1 + tup\n",
        "t4 = tup > tup1\n",
        "\n",
        "\n",
        "t4.count(1)"
      ],
      "execution_count": 0,
      "outputs": []
    },
    {
      "cell_type": "code",
      "metadata": {
        "id": "-C5fNDzdkrCC",
        "colab_type": "code",
        "colab": {}
      },
      "source": [
        ""
      ],
      "execution_count": 0,
      "outputs": []
    },
    {
      "cell_type": "markdown",
      "metadata": {
        "id": "ZCRyR3xllE35",
        "colab_type": "text"
      },
      "source": [
        "# Operations on String"
      ]
    },
    {
      "cell_type": "code",
      "metadata": {
        "id": "tXOXjKhOlM3X",
        "colab_type": "code",
        "colab": {}
      },
      "source": [
        "name = 'Krishna'\n",
        "print(\"capatalise\",name.capitalize())\n",
        "print(\"upper\",name.upper())\n",
        "print(\"Center\",name.center(15))\n",
        "print(\"endswith\",name.endswith('a'))\n",
        "print(\"startswith\",name.startswith('a'))\n",
        "print(\"find\",name.find('kr',0,4))\n",
        "print(\"Replace\",name.replace('K',\"KK\"))\n",
        "print(\"sli\")\n",
        "\n"
      ],
      "execution_count": 0,
      "outputs": []
    },
    {
      "cell_type": "markdown",
      "metadata": {
        "id": "L4VYNUTPphQM",
        "colab_type": "text"
      },
      "source": [
        "# Factorial"
      ]
    },
    {
      "cell_type": "code",
      "metadata": {
        "id": "Y2pmllQ3pdU1",
        "colab_type": "code",
        "outputId": "13b682ba-8aba-4c19-8541-55e44013856a",
        "colab": {
          "base_uri": "https://localhost:8080/",
          "height": 34
        }
      },
      "source": [
        "num = 5\n",
        "fact = 1\n",
        "\n",
        "for i in range(1,num+1):\n",
        "  fact = fact * i\n",
        "print(fact)"
      ],
      "execution_count": 0,
      "outputs": [
        {
          "output_type": "stream",
          "text": [
            "120\n"
          ],
          "name": "stdout"
        }
      ]
    },
    {
      "cell_type": "code",
      "metadata": {
        "id": "PcDNwLbSqVrd",
        "colab_type": "code",
        "outputId": "9e9f0180-915c-4582-c288-fb7c776f5943",
        "colab": {
          "base_uri": "https://localhost:8080/",
          "height": 34
        }
      },
      "source": [
        "# List\n",
        "\n",
        "lst = [1, 2, 4, 4, 5,6,6,7,7,8,9,0]\n",
        "# lst.sort()\n",
        "# lst.reverse()\n",
        "# lst.append(23)\n",
        "lst.pop(2)\n",
        "lst"
      ],
      "execution_count": 0,
      "outputs": [
        {
          "output_type": "execute_result",
          "data": {
            "text/plain": [
              "[1, 2, 4, 5, 6, 6, 7, 7, 8, 9, 0]"
            ]
          },
          "metadata": {
            "tags": []
          },
          "execution_count": 166
        }
      ]
    },
    {
      "cell_type": "code",
      "metadata": {
        "id": "Juha_vjgrcfY",
        "colab_type": "code",
        "colab": {}
      },
      "source": [
        "dic = {'k1': 123, \"k2\": 500, \"k3\":[10,20,30], 'k4':{'a':43}}\n",
        "# dic['k4']['a']\n",
        "\n",
        "for i, j in dic.items():\n",
        "  print(i, type(j))"
      ],
      "execution_count": 0,
      "outputs": []
    },
    {
      "cell_type": "code",
      "metadata": {
        "id": "bjK18052vgir",
        "colab_type": "code",
        "colab": {}
      },
      "source": [
        ""
      ],
      "execution_count": 0,
      "outputs": []
    },
    {
      "cell_type": "markdown",
      "metadata": {
        "id": "I3ahq98-vkdh",
        "colab_type": "text"
      },
      "source": [
        "# List\n"
      ]
    },
    {
      "cell_type": "code",
      "metadata": {
        "id": "6rVgyEqKvjE0",
        "colab_type": "code",
        "outputId": "29d19437-6ca2-4769-bb07-cfefb07b45aa",
        "colab": {
          "base_uri": "https://localhost:8080/",
          "height": 34
        }
      },
      "source": [
        "lst = 'abcdef'\n",
        "lst = list(lst)\n",
        "lst[0:3]"
      ],
      "execution_count": 0,
      "outputs": [
        {
          "output_type": "execute_result",
          "data": {
            "text/plain": [
              "['a', 'b', 'c']"
            ]
          },
          "metadata": {
            "tags": []
          },
          "execution_count": 196
        }
      ]
    },
    {
      "cell_type": "code",
      "metadata": {
        "id": "veer101mxVy7",
        "colab_type": "code",
        "outputId": "8d020b09-8f13-49c8-b4ed-b5d2340a1730",
        "colab": {
          "base_uri": "https://localhost:8080/",
          "height": 34
        }
      },
      "source": [
        "loc = 'Shp'\n",
        "\n",
        "if loc == 'Shop':\n",
        "  print(\"This is Shop\")\n",
        "elif loc == \"Store\":\n",
        "  print(\"This is Store\")\n",
        "elif loc == \"Bank\":\n",
        "  print(\"This is Bank\")\n",
        "else:\n",
        "  print(\"Enter correct String\")"
      ],
      "execution_count": 0,
      "outputs": [
        {
          "output_type": "stream",
          "text": [
            "Enter correct String\n"
          ],
          "name": "stdout"
        }
      ]
    },
    {
      "cell_type": "code",
      "metadata": {
        "id": "Az2e4OfAx37W",
        "colab_type": "code",
        "outputId": "010f4c56-abe0-402f-90f7-363bb9ef5355",
        "colab": {
          "base_uri": "https://localhost:8080/",
          "height": 34
        }
      },
      "source": [
        "lst = []\n",
        "for i in range(2,100):\n",
        "  if i%2==0 and i%3==0:\n",
        "    lst.append(i)\n",
        "\n",
        "lst"
      ],
      "execution_count": 0,
      "outputs": [
        {
          "output_type": "execute_result",
          "data": {
            "text/plain": [
              "[6, 12, 18, 24, 30, 36, 42, 48, 54, 60, 66, 72, 78, 84, 90, 96]"
            ]
          },
          "metadata": {
            "tags": []
          },
          "execution_count": 206
        }
      ]
    },
    {
      "cell_type": "code",
      "metadata": {
        "id": "iPX89sWgyYSj",
        "colab_type": "code",
        "colab": {}
      },
      "source": [
        "name = 'Krishna'\n",
        "\n",
        "for i in name:\n",
        "  print(i)"
      ],
      "execution_count": 0,
      "outputs": []
    },
    {
      "cell_type": "code",
      "metadata": {
        "id": "07z_VtT1yhMD",
        "colab_type": "code",
        "outputId": "911b6631-0894-4ff2-d82d-d2e974508f4b",
        "colab": {
          "base_uri": "https://localhost:8080/",
          "height": 68
        }
      },
      "source": [
        "my_list = [(1,3,4),(4,5,6),(6,7,8)]\n",
        "for a, b, c in my_list:\n",
        "  print(c)"
      ],
      "execution_count": 0,
      "outputs": [
        {
          "output_type": "stream",
          "text": [
            "4\n",
            "6\n",
            "8\n"
          ],
          "name": "stdout"
        }
      ]
    },
    {
      "cell_type": "code",
      "metadata": {
        "id": "HjmQYfLexicX",
        "colab_type": "code",
        "colab": {}
      },
      "source": [
        "dic = {'k1': 123, \"k2\": 500, \"k3\":20, 'k4':43}\n",
        "\n",
        "for i in dic.values():\n",
        "  print(i)\n"
      ],
      "execution_count": 0,
      "outputs": []
    },
    {
      "cell_type": "code",
      "metadata": {
        "id": "XqIUd7AozQXr",
        "colab_type": "code",
        "colab": {}
      },
      "source": [
        "name = \"Krishna Goje\"\n",
        "\n",
        "for i in name:\n",
        "  print(i)\n",
        "  if i == 'a':\n",
        "    continue"
      ],
      "execution_count": 0,
      "outputs": []
    },
    {
      "cell_type": "code",
      "metadata": {
        "id": "8T-ICnl-0vet",
        "colab_type": "code",
        "colab": {}
      },
      "source": [
        "word = 'abcde'\n",
        "\n",
        "for index, i in enumerate(word):\n",
        "  print(i)"
      ],
      "execution_count": 0,
      "outputs": []
    },
    {
      "cell_type": "code",
      "metadata": {
        "id": "0Sx1pkUC08bq",
        "colab_type": "code",
        "colab": {}
      },
      "source": [
        "name = list('krishna')\n",
        "s_name = list('goje')\n",
        "t = zip(name, s_name)\n",
        "for i, j in t:\n",
        "  print(i, j)"
      ],
      "execution_count": 0,
      "outputs": []
    },
    {
      "cell_type": "code",
      "metadata": {
        "id": "OoadVKPF1dQs",
        "colab_type": "code",
        "colab": {}
      },
      "source": [
        "import numpy as np\n",
        "np.random.shuffle(name)\n",
        "name"
      ],
      "execution_count": 0,
      "outputs": []
    },
    {
      "cell_type": "code",
      "metadata": {
        "id": "R9ageSHL2vu0",
        "colab_type": "code",
        "colab": {}
      },
      "source": [
        "# sqr = [ x*x for x in range(0,20) if x%2==0]\n",
        "sqr = [ x*x if x%2==0 else \"En\" for x in range(0,10)]\n",
        "\n",
        "sqr"
      ],
      "execution_count": 0,
      "outputs": []
    },
    {
      "cell_type": "code",
      "metadata": {
        "id": "xNlfBJbR354j",
        "colab_type": "code",
        "colab": {}
      },
      "source": [
        "sqr2 = [x*y for x in range(10,16,2) for y in range(20,40,2)]\n",
        "sqr2\n"
      ],
      "execution_count": 0,
      "outputs": []
    },
    {
      "cell_type": "code",
      "metadata": {
        "id": "VhpjglDQ4weo",
        "colab_type": "code",
        "colab": {}
      },
      "source": [
        "for num in range(1,100):\n",
        "  if num % 5 == 0 and num % 3 == 0:\n",
        "    print(num ,\" fiz buz\")\n",
        "  elif num % 3 == 0:\n",
        "    print(num ,\" fiz\")\n",
        "  elif num % 5 == 0:\n",
        "    print(num ,\" buz\")"
      ],
      "execution_count": 0,
      "outputs": []
    },
    {
      "cell_type": "code",
      "metadata": {
        "id": "6AZKIq-753zs",
        "colab_type": "code",
        "colab": {}
      },
      "source": [
        "def animal_check(string):\n",
        "  if 'dog' in string.lower():\n",
        "    return True\n",
        "  else:\n",
        "    return False\n",
        "\n",
        "animal_check(\"og is favourite animal\")"
      ],
      "execution_count": 0,
      "outputs": []
    },
    {
      "cell_type": "code",
      "metadata": {
        "id": "CGo1f52H6lPZ",
        "colab_type": "code",
        "colab": {}
      },
      "source": [
        "def animal_check2(string):\n",
        "  return 'dog' in string.lower()\n",
        "\n",
        "animal_check2(\"dog is my favourite\")"
      ],
      "execution_count": 0,
      "outputs": []
    },
    {
      "cell_type": "code",
      "metadata": {
        "id": "UzPV5hA17AUb",
        "colab_type": "code",
        "colab": {}
      },
      "source": [
        "v = 'aeiou'\n",
        "def vowel_check(string):\n",
        "  if string[0] in v:\n",
        "    return string + 'ay'\n",
        "  else:\n",
        "    return string[1:] + string[0] + 'ay'\n",
        "\n",
        "vowel_check(\"aKrishna\") "
      ],
      "execution_count": 0,
      "outputs": []
    },
    {
      "cell_type": "code",
      "metadata": {
        "id": "H3TC2_7A8Ngs",
        "colab_type": "code",
        "outputId": "b938198d-5664-46c3-d6e6-0725cf50a64d",
        "colab": {
          "base_uri": "https://localhost:8080/",
          "height": 34
        }
      },
      "source": [
        "def check(*args):\n",
        "  return (sum(args))\n",
        "\n",
        "final = check(15,20)\n",
        "final"
      ],
      "execution_count": 0,
      "outputs": [
        {
          "output_type": "execute_result",
          "data": {
            "text/plain": [
              "35"
            ]
          },
          "metadata": {
            "tags": []
          },
          "execution_count": 289
        }
      ]
    },
    {
      "cell_type": "code",
      "metadata": {
        "id": "BxSmTdEq9ZhU",
        "colab_type": "code",
        "outputId": "a0ba3d21-fdaa-422e-f55b-4e94649e880c",
        "colab": {
          "base_uri": "https://localhost:8080/",
          "height": 34
        }
      },
      "source": [
        "def check2(**kwargs):\n",
        "  if 'fruit' in kwargs:\n",
        "    print(\"my fruit of choince is {}\".format(kwargs['fruit']))\n",
        "\n",
        "check2(fruit=\"Mango\")"
      ],
      "execution_count": 0,
      "outputs": [
        {
          "output_type": "stream",
          "text": [
            "my fruit of choince is Mango\n"
          ],
          "name": "stdout"
        }
      ]
    },
    {
      "cell_type": "code",
      "metadata": {
        "id": "YzWubMA1WZ3L",
        "colab_type": "code",
        "outputId": "03bad9e0-db9d-4227-d29c-b7d2cc4a1327",
        "colab": {
          "base_uri": "https://localhost:8080/",
          "height": 34
        }
      },
      "source": [
        "def small(a,b):\n",
        "  if a<b:\n",
        "    return a\n",
        "  else:\n",
        "    return b\n",
        "small(2, 4)"
      ],
      "execution_count": 0,
      "outputs": [
        {
          "output_type": "execute_result",
          "data": {
            "text/plain": [
              "2"
            ]
          },
          "metadata": {
            "tags": []
          },
          "execution_count": 4
        }
      ]
    },
    {
      "cell_type": "code",
      "metadata": {
        "id": "yUHzHYC6pDa2",
        "colab_type": "code",
        "colab": {}
      },
      "source": [
        "name = \"My name is Krishna\"\n",
        "name[::-1]"
      ],
      "execution_count": 0,
      "outputs": []
    },
    {
      "cell_type": "code",
      "metadata": {
        "id": "J65VuoB8pEK-",
        "colab_type": "code",
        "colab": {}
      },
      "source": [
        "import numpy as np\n",
        "arr = np.array([1,2,3,3,5,6,7])\n",
        "\n",
        "def test(string):\n",
        "  for i in range(0,len(string)-1):\n",
        "    if arr[i] == arr[i+1] == 3:\n",
        "      return True\n",
        "  return False\n",
        "\n",
        "test(arr)"
      ],
      "execution_count": 0,
      "outputs": []
    },
    {
      "cell_type": "code",
      "metadata": {
        "id": "uBVoUnuu1HTJ",
        "colab_type": "code",
        "outputId": "14416398-3d14-4bdc-c7ca-d28b416f8bbb",
        "colab": {
          "base_uri": "https://localhost:8080/",
          "height": 34
        }
      },
      "source": [
        "name = \"Krishna\"\n",
        "result = \"\"\n",
        "\n",
        "for i in name:\n",
        "  result =  i*3\n",
        "print(result)"
      ],
      "execution_count": 0,
      "outputs": [
        {
          "output_type": "stream",
          "text": [
            "aaa\n"
          ],
          "name": "stdout"
        }
      ]
    },
    {
      "cell_type": "code",
      "metadata": {
        "id": "W1wuusNPKwYJ",
        "colab_type": "code",
        "colab": {}
      },
      "source": [
        "import numpy as np\n"
      ],
      "execution_count": 0,
      "outputs": []
    },
    {
      "cell_type": "code",
      "metadata": {
        "id": "TB8Jcp0YK2YX",
        "colab_type": "code",
        "colab": {
          "base_uri": "https://localhost:8080/",
          "height": 187
        },
        "outputId": "67cf1612-d04b-4d9d-c979-a3f6d22b9f1e"
      },
      "source": [
        "np.arange(0,50).reshape(10,5)"
      ],
      "execution_count": 8,
      "outputs": [
        {
          "output_type": "execute_result",
          "data": {
            "text/plain": [
              "array([[ 0,  1,  2,  3,  4],\n",
              "       [ 5,  6,  7,  8,  9],\n",
              "       [10, 11, 12, 13, 14],\n",
              "       [15, 16, 17, 18, 19],\n",
              "       [20, 21, 22, 23, 24],\n",
              "       [25, 26, 27, 28, 29],\n",
              "       [30, 31, 32, 33, 34],\n",
              "       [35, 36, 37, 38, 39],\n",
              "       [40, 41, 42, 43, 44],\n",
              "       [45, 46, 47, 48, 49]])"
            ]
          },
          "metadata": {
            "tags": []
          },
          "execution_count": 8
        }
      ]
    },
    {
      "cell_type": "code",
      "metadata": {
        "id": "sD_hwjySLLCL",
        "colab_type": "code",
        "colab": {
          "base_uri": "https://localhost:8080/",
          "height": 187
        },
        "outputId": "48ad1594-ebc5-41ea-bf35-26c51cd7d0b3"
      },
      "source": [
        "test = np.linspace(2, 50, 50).reshape(10,5)\n",
        "print(test)\n",
        "# print(\"Max\", test.max())\n",
        "# print(\"Min\", test.min())\n",
        "# print(\"argMax\", test.argmax())\n",
        "# print(\"argMin\", test.argmin())\n",
        "# print(\"shape\", test.shape)\n",
        "# print(\"slice 3:5\", test[3:5])\n",
        "\n"
      ],
      "execution_count": 24,
      "outputs": [
        {
          "output_type": "stream",
          "text": [
            "[[ 2.          2.97959184  3.95918367  4.93877551  5.91836735]\n",
            " [ 6.89795918  7.87755102  8.85714286  9.83673469 10.81632653]\n",
            " [11.79591837 12.7755102  13.75510204 14.73469388 15.71428571]\n",
            " [16.69387755 17.67346939 18.65306122 19.63265306 20.6122449 ]\n",
            " [21.59183673 22.57142857 23.55102041 24.53061224 25.51020408]\n",
            " [26.48979592 27.46938776 28.44897959 29.42857143 30.40816327]\n",
            " [31.3877551  32.36734694 33.34693878 34.32653061 35.30612245]\n",
            " [36.28571429 37.26530612 38.24489796 39.2244898  40.20408163]\n",
            " [41.18367347 42.16326531 43.14285714 44.12244898 45.10204082]\n",
            " [46.08163265 47.06122449 48.04081633 49.02040816 50.        ]]\n"
          ],
          "name": "stdout"
        }
      ]
    },
    {
      "cell_type": "code",
      "metadata": {
        "id": "OWp-qJ67Mzb_",
        "colab_type": "code",
        "colab": {
          "base_uri": "https://localhost:8080/",
          "height": 102
        },
        "outputId": "649670de-3370-4f58-ef56-5bc0181f5990"
      },
      "source": [
        "test[2:7,1:3]"
      ],
      "execution_count": 25,
      "outputs": [
        {
          "output_type": "execute_result",
          "data": {
            "text/plain": [
              "array([[12.7755102 , 13.75510204],\n",
              "       [17.67346939, 18.65306122],\n",
              "       [22.57142857, 23.55102041],\n",
              "       [27.46938776, 28.44897959],\n",
              "       [32.36734694, 33.34693878]])"
            ]
          },
          "metadata": {
            "tags": []
          },
          "execution_count": 25
        }
      ]
    },
    {
      "cell_type": "code",
      "metadata": {
        "id": "HTn5NoJdNTMt",
        "colab_type": "code",
        "colab": {
          "base_uri": "https://localhost:8080/",
          "height": 34
        },
        "outputId": "c35eb846-751e-4168-9471-c41aa4b906e4"
      },
      "source": [
        "test[test>15]\n",
        "test.cumsum(axis = 1)\n",
        "t2 = test.view\n",
        "print(t2)"
      ],
      "execution_count": 43,
      "outputs": [
        {
          "output_type": "stream",
          "text": [
            "<built-in method view of numpy.ndarray object at 0x7f83a1ed0530>\n"
          ],
          "name": "stdout"
        }
      ]
    },
    {
      "cell_type": "code",
      "metadata": {
        "id": "iBV3igCURgMQ",
        "colab_type": "code",
        "colab": {
          "base_uri": "https://localhost:8080/",
          "height": 187
        },
        "outputId": "3f502275-fc76-4f22-fd5a-06f1628cdfa0"
      },
      "source": [
        "test"
      ],
      "execution_count": 44,
      "outputs": [
        {
          "output_type": "execute_result",
          "data": {
            "text/plain": [
              "array([[ 2.        ,  2.97959184,  3.95918367,  4.93877551,  5.91836735],\n",
              "       [ 6.89795918,  7.87755102,  8.85714286,  9.83673469, 10.81632653],\n",
              "       [11.79591837, 12.7755102 , 13.75510204, 14.73469388, 15.71428571],\n",
              "       [16.69387755, 17.67346939, 18.65306122, 19.63265306, 20.6122449 ],\n",
              "       [21.59183673, 22.57142857, 23.55102041, 24.53061224, 25.51020408],\n",
              "       [26.48979592, 27.46938776, 28.44897959, 29.42857143, 30.40816327],\n",
              "       [31.3877551 , 32.36734694, 33.34693878, 34.32653061, 35.30612245],\n",
              "       [36.28571429, 37.26530612, 38.24489796, 39.2244898 , 40.20408163],\n",
              "       [41.18367347, 42.16326531, 43.14285714, 44.12244898, 45.10204082],\n",
              "       [46.08163265, 47.06122449, 48.04081633, 49.02040816, 50.        ]])"
            ]
          },
          "metadata": {
            "tags": []
          },
          "execution_count": 44
        }
      ]
    },
    {
      "cell_type": "code",
      "metadata": {
        "id": "ZylTK15aRhtg",
        "colab_type": "code",
        "colab": {}
      },
      "source": [
        "import pandas as pd\n",
        "\n",
        "data = pd.DataFrame(data = test, columns = list('abcde'), index = list('0123456789'))\n",
        "data['total'] = data.sum(axis = 1)\n",
        "row_sum = pd.DataFrame(data.sum(axis = 0))\n",
        "row_sum = row_sum.transpose()\n",
        "data = pd.concat([data, row_sum])\n",
        "# data.iloc[10:1]\n",
        "# data.reset_index(drop = True, inplace = True)\n",
        "new_index = ['0', '1', '2', '3', '4', 'u', '6', '7', '8', '9', 'Total']\n",
        "\n",
        "# data.loc['2',]"
      ],
      "execution_count": 0,
      "outputs": []
    },
    {
      "cell_type": "code",
      "metadata": {
        "id": "9hWDg5_2ZoRo",
        "colab_type": "code",
        "colab": {}
      },
      "source": [
        "# Delete the row with index 0 (No quotation marks)\n",
        "data.drop(0, inplace = True)"
      ],
      "execution_count": 0,
      "outputs": []
    },
    {
      "cell_type": "code",
      "metadata": {
        "id": "VeLNBluSbxYu",
        "colab_type": "code",
        "colab": {}
      },
      "source": [
        "#Conditional data filtering\n",
        "\n",
        "data[(data['b']>25) & (data['b']<40)]['c']\n",
        "data[(data['b']>25) & (data['b']<40)]\n"
      ],
      "execution_count": 0,
      "outputs": []
    },
    {
      "cell_type": "markdown",
      "metadata": {
        "id": "ZlRMhGmeeS3A",
        "colab_type": "text"
      },
      "source": [
        "#Multiindex Data Frame"
      ]
    },
    {
      "cell_type": "code",
      "metadata": {
        "id": "XJsPaUrReamb",
        "colab_type": "code",
        "colab": {
          "base_uri": "https://localhost:8080/",
          "height": 204
        },
        "outputId": "092f2f01-1430-41a3-ab6b-7c323a4a51ef"
      },
      "source": [
        "import numpy as np\n",
        "\n",
        "inner = ['a','a','b','b']\n",
        "outer = [1,2,3,4]\n",
        "\n",
        "indx = list(zip(inner, outer))\n",
        "indx = pd.MultiIndex.from_tuples(indx)\n",
        "\n",
        "df = pd.DataFrame(np.random.randn(4,3),indx, ['x','y','z'])\n",
        "\n",
        "df.loc['a']\n",
        "df.loc['a'].loc[2]['x']\n",
        "df.loc['b'].loc[4]['x']\n",
        "df.loc['b'].loc[4]['y']\n",
        "\n",
        "#Assinging Names to Index Columns\n",
        "df.index.names = ['Group','Index']\n",
        "df"
      ],
      "execution_count": 199,
      "outputs": [
        {
          "output_type": "execute_result",
          "data": {
            "text/html": [
              "<div>\n",
              "<style scoped>\n",
              "    .dataframe tbody tr th:only-of-type {\n",
              "        vertical-align: middle;\n",
              "    }\n",
              "\n",
              "    .dataframe tbody tr th {\n",
              "        vertical-align: top;\n",
              "    }\n",
              "\n",
              "    .dataframe thead th {\n",
              "        text-align: right;\n",
              "    }\n",
              "</style>\n",
              "<table border=\"1\" class=\"dataframe\">\n",
              "  <thead>\n",
              "    <tr style=\"text-align: right;\">\n",
              "      <th></th>\n",
              "      <th></th>\n",
              "      <th>x</th>\n",
              "      <th>y</th>\n",
              "      <th>z</th>\n",
              "    </tr>\n",
              "    <tr>\n",
              "      <th>Group</th>\n",
              "      <th>Index</th>\n",
              "      <th></th>\n",
              "      <th></th>\n",
              "      <th></th>\n",
              "    </tr>\n",
              "  </thead>\n",
              "  <tbody>\n",
              "    <tr>\n",
              "      <th rowspan=\"2\" valign=\"top\">a</th>\n",
              "      <th>1</th>\n",
              "      <td>0.790471</td>\n",
              "      <td>-0.812181</td>\n",
              "      <td>1.240681</td>\n",
              "    </tr>\n",
              "    <tr>\n",
              "      <th>2</th>\n",
              "      <td>2.090876</td>\n",
              "      <td>-0.940319</td>\n",
              "      <td>0.411711</td>\n",
              "    </tr>\n",
              "    <tr>\n",
              "      <th rowspan=\"2\" valign=\"top\">b</th>\n",
              "      <th>3</th>\n",
              "      <td>0.755793</td>\n",
              "      <td>1.368298</td>\n",
              "      <td>-0.202182</td>\n",
              "    </tr>\n",
              "    <tr>\n",
              "      <th>4</th>\n",
              "      <td>-0.758075</td>\n",
              "      <td>-1.857924</td>\n",
              "      <td>-0.016208</td>\n",
              "    </tr>\n",
              "  </tbody>\n",
              "</table>\n",
              "</div>"
            ],
            "text/plain": [
              "                    x         y         z\n",
              "Group Index                              \n",
              "a     1      0.790471 -0.812181  1.240681\n",
              "      2      2.090876 -0.940319  0.411711\n",
              "b     3      0.755793  1.368298 -0.202182\n",
              "      4     -0.758075 -1.857924 -0.016208"
            ]
          },
          "metadata": {
            "tags": []
          },
          "execution_count": 199
        }
      ]
    }
  ]
}